{
  "nbformat": 4,
  "nbformat_minor": 0,
  "metadata": {
    "colab": {
      "name": "AutoEncoderusingKeras.ipynb",
      "provenance": [],
      "collapsed_sections": [],
      "authorship_tag": "ABX9TyOb/OJ/4BlCrBmxHgCsbgni",
      "include_colab_link": true
    },
    "kernelspec": {
      "name": "python3",
      "display_name": "Python 3"
    },
    "accelerator": "GPU"
  },
  "cells": [
    {
      "cell_type": "markdown",
      "metadata": {
        "id": "view-in-github",
        "colab_type": "text"
      },
      "source": [
        "<a href=\"https://colab.research.google.com/github/abuzarbagewadi/AutoEncoders/blob/master/AutoEncoderusingKeras.ipynb\" target=\"_parent\"><img src=\"https://colab.research.google.com/assets/colab-badge.svg\" alt=\"Open In Colab\"/></a>"
      ]
    },
    {
      "cell_type": "markdown",
      "metadata": {
        "id": "YfRs7LTMe9Hr",
        "colab_type": "text"
      },
      "source": [
        "### Importing Libraries"
      ]
    },
    {
      "cell_type": "code",
      "metadata": {
        "id": "nbxDykNlZ_Ot",
        "colab_type": "code",
        "colab": {
          "base_uri": "https://localhost:8080/",
          "height": 34
        },
        "outputId": "2070e169-c875-4558-b3c3-cd2b6c9976e5"
      },
      "source": [
        "import numpy as np \n",
        "import matplotlib.pyplot as plt \n",
        "from random import randint \n",
        "from keras import backend as K \n",
        "from keras.layers import Input, Dense, Conv2D, MaxPooling2D, UpSampling2D \n",
        "from keras.models import Model \n",
        "from keras.datasets import mnist \n",
        "from keras.callbacks import TensorBoard "
      ],
      "execution_count": 3,
      "outputs": [
        {
          "output_type": "stream",
          "text": [
            "Using TensorFlow backend.\n"
          ],
          "name": "stderr"
        }
      ]
    },
    {
      "cell_type": "markdown",
      "metadata": {
        "id": "vTdNW9F1e46m",
        "colab_type": "text"
      },
      "source": [
        "### Loading the Data"
      ]
    },
    {
      "cell_type": "code",
      "metadata": {
        "id": "epoOgunwaFm8",
        "colab_type": "code",
        "colab": {}
      },
      "source": [
        "def load_data(): \n",
        "    \n",
        "    input_image = Input(shape =(28, 28, 1)) \n",
        "    (X_train, _), (X_test, _) = mnist.load_data() \n",
        "       \n",
        "    X_train = X_train.astype('float32') / 255.\n",
        "    X_train = np.reshape(X_train, (len(X_train), 28, 28, 1)) \n",
        "    X_test = X_test.astype('float32') / 255.\n",
        "    X_test = np.reshape(X_test, (len(X_test), 28, 28, 1)) \n",
        "      \n",
        "    return X_train, X_test, input_image"
      ],
      "execution_count": 4,
      "outputs": []
    },
    {
      "cell_type": "markdown",
      "metadata": {
        "id": "YdUG93BSfMqT",
        "colab_type": "text"
      },
      "source": [
        "### Building the Neural Network"
      ]
    },
    {
      "cell_type": "code",
      "metadata": {
        "id": "zSJ7kaCzaK3I",
        "colab_type": "code",
        "colab": {}
      },
      "source": [
        "def build_network(input_image): \n",
        "      \n",
        "     \n",
        "    x = Conv2D(16, (3, 3), activation ='relu', padding ='same')(input_image) \n",
        "    x = MaxPooling2D((2, 2), padding ='same')(x)  \n",
        "    x = Conv2D(8, (3, 3), activation ='relu', padding ='same')(x) \n",
        "    x = MaxPooling2D((2, 2), padding ='same')(x) \n",
        "    x = Conv2D(8, (3, 3), activation ='relu', padding ='same')(x) \n",
        "    encoded_layer = MaxPooling2D((2, 2), padding ='same')(x) \n",
        "       \n",
        "    x = Conv2D(8, (3, 3), activation ='relu', padding ='same')(encoded_layer) \n",
        "    x = UpSampling2D((2, 2))(x) \n",
        "    x = Conv2D(8, (3, 3), activation ='relu', padding ='same')(x) \n",
        "    x = UpSampling2D((2, 2))(x) \n",
        "    x = Conv2D(16, (3, 3), activation ='relu')(x) \n",
        "    x = UpSampling2D((2, 2))(x) \n",
        "    decoded_layer = Conv2D(1, (3, 3), activation ='sigmoid', padding ='same')(x) \n",
        "      \n",
        "    return decoded_layer "
      ],
      "execution_count": 5,
      "outputs": []
    },
    {
      "cell_type": "markdown",
      "metadata": {
        "id": "VgtaTdr5fh57",
        "colab_type": "text"
      },
      "source": [
        "### Training the Neural Network"
      ]
    },
    {
      "cell_type": "code",
      "metadata": {
        "id": "_jsUbxA8aNVw",
        "colab_type": "code",
        "colab": {}
      },
      "source": [
        "def build_auto_encoder_model(X_train, X_test, input_image, decoded_layer): \n",
        "      \n",
        "     \n",
        "    autoencoder = Model(input_image, decoded_layer) \n",
        "    autoencoder.compile(optimizer ='adam', loss ='binary_crossentropy') \n",
        "      \n",
        "     \n",
        "    autoencoder.fit(X_train, X_train, \n",
        "                epochs = 15, \n",
        "                batch_size = 256, \n",
        "                shuffle = True, \n",
        "                validation_data =(X_test, X_test), \n",
        "                callbacks =[TensorBoard(log_dir ='/tmp / autoencoder')])\n",
        "         \n",
        "      \n",
        "    return autoencoder "
      ],
      "execution_count": 15,
      "outputs": []
    },
    {
      "cell_type": "markdown",
      "metadata": {
        "id": "GmuacpxaftTT",
        "colab_type": "text"
      },
      "source": [
        "### Visualising the Reconstruction"
      ]
    },
    {
      "cell_type": "code",
      "metadata": {
        "id": "KuvFyTVGaPvg",
        "colab_type": "code",
        "colab": {}
      },
      "source": [
        "def visualize(model, X_test): \n",
        "      \n",
        "    # Reconstructing the encoded images \n",
        "    reconstructed_images = model.predict(X_test) \n",
        "      \n",
        "    plt.figure(figsize =(20, 4)) \n",
        "    for i in range(1, 11): \n",
        "          \n",
        "        # Generating a random to get random results \n",
        "        rand_num = randint(0, 10001) \n",
        "      \n",
        "        # To display the original image \n",
        "        ax = plt.subplot(2, 10, i) \n",
        "        plt.imshow(X_test[rand_num].reshape(28, 28)) \n",
        "        plt.gray() \n",
        "        ax.get_xaxis().set_visible(False) \n",
        "        ax.get_yaxis().set_visible(False) \n",
        "  \n",
        "        # To display the reconstructed image \n",
        "        ax = plt.subplot(2, 10, i + 10) \n",
        "        plt.imshow(reconstructed_images[rand_num].reshape(28, 28)) \n",
        "        plt.gray() \n",
        "        ax.get_xaxis().set_visible(False) \n",
        "        ax.get_yaxis().set_visible(False) \n",
        "          \n",
        "    # Displaying the plot \n",
        "    plt.show() "
      ],
      "execution_count": 16,
      "outputs": []
    },
    {
      "cell_type": "markdown",
      "metadata": {
        "id": "zqBxbyEbf1Vz",
        "colab_type": "text"
      },
      "source": [
        "### Function Calling"
      ]
    },
    {
      "cell_type": "code",
      "metadata": {
        "id": "fZjaZM4DaVVZ",
        "colab_type": "code",
        "colab": {
          "base_uri": "https://localhost:8080/",
          "height": 769
        },
        "outputId": "e3fd65e0-ce69-4124-ce74-e267c9412f53"
      },
      "source": [
        "X_train, X_test, input_image = load_data() \n",
        "decoded_layer = build_network(input_image) \n",
        "auto_encoder_model = build_auto_encoder_model(X_train, X_test, input_image, decoded_layer) \n",
        "visualize(auto_encoder_model, X_test) \n",
        "\n",
        "\n"
      ],
      "execution_count": 17,
      "outputs": [
        {
          "output_type": "stream",
          "text": [
            "Train on 60000 samples, validate on 10000 samples\n",
            "Epoch 1/15\n",
            "60000/60000 [==============================] - 6s 93us/step - loss: 0.2785 - val_loss: 0.1735\n",
            "Epoch 2/15\n",
            "60000/60000 [==============================] - 5s 87us/step - loss: 0.1587 - val_loss: 0.1462\n",
            "Epoch 3/15\n",
            "60000/60000 [==============================] - 5s 87us/step - loss: 0.1404 - val_loss: 0.1329\n",
            "Epoch 4/15\n",
            "60000/60000 [==============================] - 5s 87us/step - loss: 0.1302 - val_loss: 0.1256\n",
            "Epoch 5/15\n",
            "60000/60000 [==============================] - 5s 87us/step - loss: 0.1243 - val_loss: 0.1210\n",
            "Epoch 6/15\n",
            "60000/60000 [==============================] - 5s 87us/step - loss: 0.1204 - val_loss: 0.1175\n",
            "Epoch 7/15\n",
            "60000/60000 [==============================] - 5s 87us/step - loss: 0.1175 - val_loss: 0.1148\n",
            "Epoch 8/15\n",
            "60000/60000 [==============================] - 5s 87us/step - loss: 0.1152 - val_loss: 0.1130\n",
            "Epoch 9/15\n",
            "60000/60000 [==============================] - 5s 87us/step - loss: 0.1133 - val_loss: 0.1112\n",
            "Epoch 10/15\n",
            "60000/60000 [==============================] - 5s 87us/step - loss: 0.1116 - val_loss: 0.1096\n",
            "Epoch 11/15\n",
            "60000/60000 [==============================] - 5s 87us/step - loss: 0.1101 - val_loss: 0.1084\n",
            "Epoch 12/15\n",
            "60000/60000 [==============================] - 5s 87us/step - loss: 0.1090 - val_loss: 0.1072\n",
            "Epoch 13/15\n",
            "60000/60000 [==============================] - 5s 87us/step - loss: 0.1080 - val_loss: 0.1062\n",
            "Epoch 14/15\n",
            "60000/60000 [==============================] - 5s 87us/step - loss: 0.1069 - val_loss: 0.1052\n",
            "Epoch 15/15\n",
            "60000/60000 [==============================] - 5s 87us/step - loss: 0.1061 - val_loss: 0.1044\n"
          ],
          "name": "stdout"
        },
        {
          "output_type": "display_data",
          "data": {
            "image/png": "[encoded data removed]",
            "text/plain": [
              "<Figure size 1440x288 with 20 Axes>"
            ]
          },
          "metadata": {
            "tags": [],
            "needs_background": "light"
          }
        }
      ]
    }
  ]
}